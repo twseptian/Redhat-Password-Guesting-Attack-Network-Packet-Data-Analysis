{
 "cells": [
  {
   "cell_type": "code",
   "execution_count": 19,
   "metadata": {
    "collapsed": true
   },
   "outputs": [],
   "source": [
    "import pandas as pd\n",
    "import numpy as np\n",
    "import matplotlib.pyplot as plt"
   ]
  },
  {
   "cell_type": "code",
   "execution_count": 20,
   "metadata": {
    "collapsed": true
   },
   "outputs": [],
   "source": [
    "%matplotlib inline"
   ]
  },
  {
   "cell_type": "code",
   "execution_count": 21,
   "metadata": {
    "collapsed": false,
    "scrolled": true
   },
   "outputs": [
    {
     "data": {
      "text/html": [
       "<div style=\"max-height:1000px;max-width:1500px;overflow:auto;\">\n",
       "<table border=\"1\" class=\"dataframe\">\n",
       "  <thead>\n",
       "    <tr style=\"text-align: right;\">\n",
       "      <th></th>\n",
       "      <th>No.</th>\n",
       "      <th>Time</th>\n",
       "      <th>Source</th>\n",
       "      <th>Destination</th>\n",
       "      <th>Protocol</th>\n",
       "      <th>Length</th>\n",
       "      <th>Info</th>\n",
       "    </tr>\n",
       "  </thead>\n",
       "  <tbody>\n",
       "    <tr>\n",
       "      <th>0</th>\n",
       "      <td> 12</td>\n",
       "      <td>2011-11-04 21:04:51</td>\n",
       "      <td> 10.10.10.15</td>\n",
       "      <td> 10.10.10.5</td>\n",
       "      <td> FTP</td>\n",
       "      <td> 66</td>\n",
       "      <td>  Request: PASS rummy</td>\n",
       "    </tr>\n",
       "    <tr>\n",
       "      <th>1</th>\n",
       "      <td> 25</td>\n",
       "      <td>2011-11-04 21:04:51</td>\n",
       "      <td> 10.10.10.15</td>\n",
       "      <td> 10.10.10.5</td>\n",
       "      <td> FTP</td>\n",
       "      <td> 65</td>\n",
       "      <td>   Request: PASS rump</td>\n",
       "    </tr>\n",
       "    <tr>\n",
       "      <th>2</th>\n",
       "      <td> 38</td>\n",
       "      <td>2011-11-04 21:04:51</td>\n",
       "      <td> 10.10.10.15</td>\n",
       "      <td> 10.10.10.5</td>\n",
       "      <td> FTP</td>\n",
       "      <td> 67</td>\n",
       "      <td> Request: PASS rumple</td>\n",
       "    </tr>\n",
       "    <tr>\n",
       "      <th>3</th>\n",
       "      <td> 51</td>\n",
       "      <td>2011-11-04 21:04:51</td>\n",
       "      <td> 10.10.10.15</td>\n",
       "      <td> 10.10.10.5</td>\n",
       "      <td> FTP</td>\n",
       "      <td> 67</td>\n",
       "      <td> Request: PASS rumpus</td>\n",
       "    </tr>\n",
       "    <tr>\n",
       "      <th>4</th>\n",
       "      <td> 64</td>\n",
       "      <td>2011-11-04 21:04:51</td>\n",
       "      <td> 10.10.10.15</td>\n",
       "      <td> 10.10.10.5</td>\n",
       "      <td> FTP</td>\n",
       "      <td> 64</td>\n",
       "      <td>    Request: PASS run</td>\n",
       "    </tr>\n",
       "  </tbody>\n",
       "</table>\n",
       "</div>"
      ],
      "text/plain": [
       "   No.                Time       Source Destination Protocol  Length  \\\n",
       "0   12 2011-11-04 21:04:51  10.10.10.15  10.10.10.5      FTP      66   \n",
       "1   25 2011-11-04 21:04:51  10.10.10.15  10.10.10.5      FTP      65   \n",
       "2   38 2011-11-04 21:04:51  10.10.10.15  10.10.10.5      FTP      67   \n",
       "3   51 2011-11-04 21:04:51  10.10.10.15  10.10.10.5      FTP      67   \n",
       "4   64 2011-11-04 21:04:51  10.10.10.15  10.10.10.5      FTP      64   \n",
       "\n",
       "                   Info  \n",
       "0   Request: PASS rummy  \n",
       "1    Request: PASS rump  \n",
       "2  Request: PASS rumple  \n",
       "3  Request: PASS rumpus  \n",
       "4     Request: PASS run  "
      ]
     },
     "execution_count": 21,
     "metadata": {},
     "output_type": "execute_result"
    }
   ],
   "source": [
    "rhpass=pd.read_csv(\"filter-pass-rp.csv\", parse_dates=['Time'])\n",
    "rhpass.head()"
   ]
  },
  {
   "cell_type": "code",
   "execution_count": 22,
   "metadata": {
    "collapsed": false
   },
   "outputs": [],
   "source": [
    "rhpass[\"Type\"] = rhpass.apply(lambda x: \"Client\" if x[\"Source\"] == rhpass.irow(0)[\"Source\"] else \"Server\", axis=1)"
   ]
  },
  {
   "cell_type": "code",
   "execution_count": 23,
   "metadata": {
    "collapsed": false,
    "scrolled": true
   },
   "outputs": [
    {
     "data": {
      "text/html": [
       "<div style=\"max-height:1000px;max-width:1500px;overflow:auto;\">\n",
       "<table border=\"1\" class=\"dataframe\">\n",
       "  <thead>\n",
       "    <tr style=\"text-align: right;\">\n",
       "      <th></th>\n",
       "      <th>No.</th>\n",
       "      <th>Time</th>\n",
       "      <th>Source</th>\n",
       "      <th>Destination</th>\n",
       "      <th>Protocol</th>\n",
       "      <th>Length</th>\n",
       "      <th>Info</th>\n",
       "      <th>Type</th>\n",
       "    </tr>\n",
       "  </thead>\n",
       "  <tbody>\n",
       "    <tr>\n",
       "      <th>0</th>\n",
       "      <td> 12</td>\n",
       "      <td>2011-11-04 21:04:51</td>\n",
       "      <td> 10.10.10.15</td>\n",
       "      <td> 10.10.10.5</td>\n",
       "      <td> FTP</td>\n",
       "      <td> 66</td>\n",
       "      <td>  Request: PASS rummy</td>\n",
       "      <td> Client</td>\n",
       "    </tr>\n",
       "    <tr>\n",
       "      <th>1</th>\n",
       "      <td> 25</td>\n",
       "      <td>2011-11-04 21:04:51</td>\n",
       "      <td> 10.10.10.15</td>\n",
       "      <td> 10.10.10.5</td>\n",
       "      <td> FTP</td>\n",
       "      <td> 65</td>\n",
       "      <td>   Request: PASS rump</td>\n",
       "      <td> Client</td>\n",
       "    </tr>\n",
       "    <tr>\n",
       "      <th>2</th>\n",
       "      <td> 38</td>\n",
       "      <td>2011-11-04 21:04:51</td>\n",
       "      <td> 10.10.10.15</td>\n",
       "      <td> 10.10.10.5</td>\n",
       "      <td> FTP</td>\n",
       "      <td> 67</td>\n",
       "      <td> Request: PASS rumple</td>\n",
       "      <td> Client</td>\n",
       "    </tr>\n",
       "    <tr>\n",
       "      <th>3</th>\n",
       "      <td> 51</td>\n",
       "      <td>2011-11-04 21:04:51</td>\n",
       "      <td> 10.10.10.15</td>\n",
       "      <td> 10.10.10.5</td>\n",
       "      <td> FTP</td>\n",
       "      <td> 67</td>\n",
       "      <td> Request: PASS rumpus</td>\n",
       "      <td> Client</td>\n",
       "    </tr>\n",
       "    <tr>\n",
       "      <th>4</th>\n",
       "      <td> 64</td>\n",
       "      <td>2011-11-04 21:04:51</td>\n",
       "      <td> 10.10.10.15</td>\n",
       "      <td> 10.10.10.5</td>\n",
       "      <td> FTP</td>\n",
       "      <td> 64</td>\n",
       "      <td>    Request: PASS run</td>\n",
       "      <td> Client</td>\n",
       "    </tr>\n",
       "  </tbody>\n",
       "</table>\n",
       "</div>"
      ],
      "text/plain": [
       "   No.                Time       Source Destination Protocol  Length  \\\n",
       "0   12 2011-11-04 21:04:51  10.10.10.15  10.10.10.5      FTP      66   \n",
       "1   25 2011-11-04 21:04:51  10.10.10.15  10.10.10.5      FTP      65   \n",
       "2   38 2011-11-04 21:04:51  10.10.10.15  10.10.10.5      FTP      67   \n",
       "3   51 2011-11-04 21:04:51  10.10.10.15  10.10.10.5      FTP      67   \n",
       "4   64 2011-11-04 21:04:51  10.10.10.15  10.10.10.5      FTP      64   \n",
       "\n",
       "                   Info    Type  \n",
       "0   Request: PASS rummy  Client  \n",
       "1    Request: PASS rump  Client  \n",
       "2  Request: PASS rumple  Client  \n",
       "3  Request: PASS rumpus  Client  \n",
       "4     Request: PASS run  Client  "
      ]
     },
     "execution_count": 23,
     "metadata": {},
     "output_type": "execute_result"
    }
   ],
   "source": [
    "rhpass.head()"
   ]
  },
  {
   "cell_type": "code",
   "execution_count": 24,
   "metadata": {
    "collapsed": false,
    "scrolled": true
   },
   "outputs": [
    {
     "data": {
      "text/html": [
       "<div style=\"max-height:1000px;max-width:1500px;overflow:auto;\">\n",
       "<table border=\"1\" class=\"dataframe\">\n",
       "  <thead>\n",
       "    <tr style=\"text-align: right;\">\n",
       "      <th></th>\n",
       "      <th>Length</th>\n",
       "      <th>Time</th>\n",
       "      <th>Info</th>\n",
       "    </tr>\n",
       "  </thead>\n",
       "  <tbody>\n",
       "    <tr>\n",
       "      <th>0</th>\n",
       "      <td> 66</td>\n",
       "      <td>2011-11-04 21:04:51</td>\n",
       "      <td>  Request: PASS rummy</td>\n",
       "    </tr>\n",
       "    <tr>\n",
       "      <th>1</th>\n",
       "      <td> 65</td>\n",
       "      <td>2011-11-04 21:04:51</td>\n",
       "      <td>   Request: PASS rump</td>\n",
       "    </tr>\n",
       "    <tr>\n",
       "      <th>2</th>\n",
       "      <td> 67</td>\n",
       "      <td>2011-11-04 21:04:51</td>\n",
       "      <td> Request: PASS rumple</td>\n",
       "    </tr>\n",
       "    <tr>\n",
       "      <th>3</th>\n",
       "      <td> 67</td>\n",
       "      <td>2011-11-04 21:04:51</td>\n",
       "      <td> Request: PASS rumpus</td>\n",
       "    </tr>\n",
       "    <tr>\n",
       "      <th>4</th>\n",
       "      <td> 64</td>\n",
       "      <td>2011-11-04 21:04:51</td>\n",
       "      <td>    Request: PASS run</td>\n",
       "    </tr>\n",
       "  </tbody>\n",
       "</table>\n",
       "</div>"
      ],
      "text/plain": [
       "   Length                Time                  Info\n",
       "0      66 2011-11-04 21:04:51   Request: PASS rummy\n",
       "1      65 2011-11-04 21:04:51    Request: PASS rump\n",
       "2      67 2011-11-04 21:04:51  Request: PASS rumple\n",
       "3      67 2011-11-04 21:04:51  Request: PASS rumpus\n",
       "4      64 2011-11-04 21:04:51     Request: PASS run"
      ]
     },
     "execution_count": 24,
     "metadata": {},
     "output_type": "execute_result"
    }
   ],
   "source": [
    "infodata2 = rhpass[['Length','Time','Info']]\n",
    "infodata2.head()"
   ]
  },
  {
   "cell_type": "code",
   "execution_count": 25,
   "metadata": {
    "collapsed": false,
    "scrolled": true
   },
   "outputs": [
    {
     "data": {
      "text/html": [
       "<div style=\"max-height:1000px;max-width:1500px;overflow:auto;\">\n",
       "<table border=\"1\" class=\"dataframe\">\n",
       "  <thead>\n",
       "    <tr style=\"text-align: right;\">\n",
       "      <th></th>\n",
       "      <th>Length</th>\n",
       "      <th>Info</th>\n",
       "    </tr>\n",
       "    <tr>\n",
       "      <th>Time</th>\n",
       "      <th></th>\n",
       "      <th></th>\n",
       "    </tr>\n",
       "  </thead>\n",
       "  <tbody>\n",
       "    <tr>\n",
       "      <th>2011-11-04 21:04:51</th>\n",
       "      <td> 66</td>\n",
       "      <td>  Request: PASS rummy</td>\n",
       "    </tr>\n",
       "    <tr>\n",
       "      <th>2011-11-04 21:04:51</th>\n",
       "      <td> 65</td>\n",
       "      <td>   Request: PASS rump</td>\n",
       "    </tr>\n",
       "    <tr>\n",
       "      <th>2011-11-04 21:04:51</th>\n",
       "      <td> 67</td>\n",
       "      <td> Request: PASS rumple</td>\n",
       "    </tr>\n",
       "    <tr>\n",
       "      <th>2011-11-04 21:04:51</th>\n",
       "      <td> 67</td>\n",
       "      <td> Request: PASS rumpus</td>\n",
       "    </tr>\n",
       "    <tr>\n",
       "      <th>2011-11-04 21:04:51</th>\n",
       "      <td> 64</td>\n",
       "      <td>    Request: PASS run</td>\n",
       "    </tr>\n",
       "  </tbody>\n",
       "</table>\n",
       "</div>"
      ],
      "text/plain": [
       "                     Length                  Info\n",
       "Time                                             \n",
       "2011-11-04 21:04:51      66   Request: PASS rummy\n",
       "2011-11-04 21:04:51      65    Request: PASS rump\n",
       "2011-11-04 21:04:51      67  Request: PASS rumple\n",
       "2011-11-04 21:04:51      67  Request: PASS rumpus\n",
       "2011-11-04 21:04:51      64     Request: PASS run"
      ]
     },
     "execution_count": 25,
     "metadata": {},
     "output_type": "execute_result"
    }
   ],
   "source": [
    "infodata2 = infodata2.set_index('Time')\n",
    "infodata2.head()"
   ]
  },
  {
   "cell_type": "code",
   "execution_count": 26,
   "metadata": {
    "collapsed": false
   },
   "outputs": [
    {
     "data": {
      "text/html": [
       "<div style=\"max-height:1000px;max-width:1500px;overflow:auto;\">\n",
       "<table border=\"1\" class=\"dataframe\">\n",
       "  <thead>\n",
       "    <tr style=\"text-align: right;\">\n",
       "      <th></th>\n",
       "      <th>Length</th>\n",
       "    </tr>\n",
       "    <tr>\n",
       "      <th>Time</th>\n",
       "      <th></th>\n",
       "    </tr>\n",
       "  </thead>\n",
       "  <tbody>\n",
       "    <tr>\n",
       "      <th>2011-11-04 21:04:00</th>\n",
       "      <td>  2469</td>\n",
       "    </tr>\n",
       "    <tr>\n",
       "      <th>2011-11-04 21:05:00</th>\n",
       "      <td> 17278</td>\n",
       "    </tr>\n",
       "    <tr>\n",
       "      <th>2011-11-04 21:06:00</th>\n",
       "      <td> 17535</td>\n",
       "    </tr>\n",
       "    <tr>\n",
       "      <th>2011-11-04 21:07:00</th>\n",
       "      <td> 17127</td>\n",
       "    </tr>\n",
       "    <tr>\n",
       "      <th>2011-11-04 21:08:00</th>\n",
       "      <td> 17245</td>\n",
       "    </tr>\n",
       "  </tbody>\n",
       "</table>\n",
       "</div>"
      ],
      "text/plain": [
       "                     Length\n",
       "Time                       \n",
       "2011-11-04 21:04:00    2469\n",
       "2011-11-04 21:05:00   17278\n",
       "2011-11-04 21:06:00   17535\n",
       "2011-11-04 21:07:00   17127\n",
       "2011-11-04 21:08:00   17245"
      ]
     },
     "execution_count": 26,
     "metadata": {},
     "output_type": "execute_result"
    }
   ],
   "source": [
    "infodata2.resample('T',how=sum).head()"
   ]
  },
  {
   "cell_type": "code",
   "execution_count": 27,
   "metadata": {
    "collapsed": false
   },
   "outputs": [
    {
     "data": {
      "image/png": "[encoded data removed]",
      "text/plain": [
       "<matplotlib.figure.Figure at 0xac48536c>"
      ]
     },
     "metadata": {},
     "output_type": "display_data"
    }
   ],
   "source": [
    "infodata2_plot = infodata2.resample('T',how=sum).plot(kind=\"barh\",title=\"Brute Force Dictionary Password per menit\",figsize=(20,4))"
   ]
  },
  {
   "cell_type": "code",
   "execution_count": 28,
   "metadata": {
    "collapsed": true
   },
   "outputs": [],
   "source": [
    "fig = infodata2_plot.get_figure()\n",
    "fig.savefig(\"Brute-force-list-password-permenit.png\")"
   ]
  },
  {
   "cell_type": "code",
   "execution_count": 29,
   "metadata": {
    "collapsed": false
   },
   "outputs": [
    {
     "data": {
      "text/html": [
       "<div style=\"max-height:1000px;max-width:1500px;overflow:auto;\">\n",
       "<table border=\"1\" class=\"dataframe\">\n",
       "  <thead>\n",
       "    <tr style=\"text-align: right;\">\n",
       "      <th></th>\n",
       "      <th>Length</th>\n",
       "    </tr>\n",
       "    <tr>\n",
       "      <th>Time</th>\n",
       "      <th></th>\n",
       "    </tr>\n",
       "  </thead>\n",
       "  <tbody>\n",
       "    <tr>\n",
       "      <th>2011-11-04 21:04:51</th>\n",
       "      <td> 329</td>\n",
       "    </tr>\n",
       "    <tr>\n",
       "      <th>2011-11-04 21:04:52</th>\n",
       "      <td> 137</td>\n",
       "    </tr>\n",
       "    <tr>\n",
       "      <th>2011-11-04 21:04:53</th>\n",
       "      <td> 400</td>\n",
       "    </tr>\n",
       "    <tr>\n",
       "      <th>2011-11-04 21:04:54</th>\n",
       "      <td> 264</td>\n",
       "    </tr>\n",
       "    <tr>\n",
       "      <th>2011-11-04 21:04:55</th>\n",
       "      <td> 201</td>\n",
       "    </tr>\n",
       "  </tbody>\n",
       "</table>\n",
       "</div>"
      ],
      "text/plain": [
       "                     Length\n",
       "Time                       \n",
       "2011-11-04 21:04:51     329\n",
       "2011-11-04 21:04:52     137\n",
       "2011-11-04 21:04:53     400\n",
       "2011-11-04 21:04:54     264\n",
       "2011-11-04 21:04:55     201"
      ]
     },
     "execution_count": 29,
     "metadata": {},
     "output_type": "execute_result"
    }
   ],
   "source": [
    "infodata2.resample('S',how=sum).head()"
   ]
  },
  {
   "cell_type": "code",
   "execution_count": 30,
   "metadata": {
    "collapsed": false,
    "scrolled": true
   },
   "outputs": [
    {
     "data": {
      "image/png": "[encoded data removed]",
      "text/plain": [
       "<matplotlib.figure.Figure at 0xac485acc>"
      ]
     },
     "metadata": {},
     "output_type": "display_data"
    }
   ],
   "source": [
    "infodata2_plot = infodata2.resample('S',how=sum).plot(title=\"Brute Force List Password / seconds\",style=\"r\",figsize=(20,4),legend=True)"
   ]
  },
  {
   "cell_type": "code",
   "execution_count": 31,
   "metadata": {
    "collapsed": true
   },
   "outputs": [],
   "source": [
    "fig = infodata2_plot.get_figure()\n",
    "fig.savefig(\"Brute-force-list-password-perseconds.png\")"
   ]
  },
  {
   "cell_type": "code",
   "execution_count": 32,
   "metadata": {
    "collapsed": false,
    "scrolled": false
   },
   "outputs": [
    {
     "data": {
      "text/html": [
       "<div style=\"max-height:1000px;max-width:1500px;overflow:auto;\">\n",
       "<table border=\"1\" class=\"dataframe\">\n",
       "  <thead>\n",
       "    <tr style=\"text-align: right;\">\n",
       "      <th></th>\n",
       "      <th>Source</th>\n",
       "      <th>Destination</th>\n",
       "      <th>Length</th>\n",
       "      <th>Info</th>\n",
       "      <th>Type</th>\n",
       "    </tr>\n",
       "  </thead>\n",
       "  <tbody>\n",
       "    <tr>\n",
       "      <th>0</th>\n",
       "      <td> 10.10.10.15</td>\n",
       "      <td> 10.10.10.5</td>\n",
       "      <td> 66</td>\n",
       "      <td>  Request: PASS rummy</td>\n",
       "      <td> Client</td>\n",
       "    </tr>\n",
       "    <tr>\n",
       "      <th>1</th>\n",
       "      <td> 10.10.10.15</td>\n",
       "      <td> 10.10.10.5</td>\n",
       "      <td> 65</td>\n",
       "      <td>   Request: PASS rump</td>\n",
       "      <td> Client</td>\n",
       "    </tr>\n",
       "    <tr>\n",
       "      <th>2</th>\n",
       "      <td> 10.10.10.15</td>\n",
       "      <td> 10.10.10.5</td>\n",
       "      <td> 67</td>\n",
       "      <td> Request: PASS rumple</td>\n",
       "      <td> Client</td>\n",
       "    </tr>\n",
       "    <tr>\n",
       "      <th>3</th>\n",
       "      <td> 10.10.10.15</td>\n",
       "      <td> 10.10.10.5</td>\n",
       "      <td> 67</td>\n",
       "      <td> Request: PASS rumpus</td>\n",
       "      <td> Client</td>\n",
       "    </tr>\n",
       "    <tr>\n",
       "      <th>4</th>\n",
       "      <td> 10.10.10.15</td>\n",
       "      <td> 10.10.10.5</td>\n",
       "      <td> 64</td>\n",
       "      <td>    Request: PASS run</td>\n",
       "      <td> Client</td>\n",
       "    </tr>\n",
       "  </tbody>\n",
       "</table>\n",
       "</div>"
      ],
      "text/plain": [
       "        Source Destination  Length                  Info    Type\n",
       "0  10.10.10.15  10.10.10.5      66   Request: PASS rummy  Client\n",
       "1  10.10.10.15  10.10.10.5      65    Request: PASS rump  Client\n",
       "2  10.10.10.15  10.10.10.5      67  Request: PASS rumple  Client\n",
       "3  10.10.10.15  10.10.10.5      67  Request: PASS rumpus  Client\n",
       "4  10.10.10.15  10.10.10.5      64     Request: PASS run  Client"
      ]
     },
     "execution_count": 32,
     "metadata": {},
     "output_type": "execute_result"
    }
   ],
   "source": [
    "infodata2 = rhpass[['Source','Destination','Length','Info','Type']]\n",
    "infodata2.head()"
   ]
  },
  {
   "cell_type": "code",
   "execution_count": 33,
   "metadata": {
    "collapsed": false,
    "scrolled": true
   },
   "outputs": [
    {
     "data": {
      "text/html": [
       "<div style=\"max-height:1000px;max-width:1500px;overflow:auto;\">\n",
       "<table border=\"1\" class=\"dataframe\">\n",
       "  <thead>\n",
       "    <tr style=\"text-align: right;\">\n",
       "      <th></th>\n",
       "      <th></th>\n",
       "      <th></th>\n",
       "      <th>Length</th>\n",
       "    </tr>\n",
       "    <tr>\n",
       "      <th>Source</th>\n",
       "      <th>Destination</th>\n",
       "      <th>Info</th>\n",
       "      <th></th>\n",
       "    </tr>\n",
       "  </thead>\n",
       "  <tbody>\n",
       "    <tr>\n",
       "      <th rowspan=\"5\" valign=\"top\">10.10.10.15</th>\n",
       "      <th rowspan=\"5\" valign=\"top\">10.10.10.5</th>\n",
       "      <th>Request: PASS rummy</th>\n",
       "      <td> 66</td>\n",
       "    </tr>\n",
       "    <tr>\n",
       "      <th>Request: PASS rump</th>\n",
       "      <td> 65</td>\n",
       "    </tr>\n",
       "    <tr>\n",
       "      <th>Request: PASS rumple</th>\n",
       "      <td> 67</td>\n",
       "    </tr>\n",
       "    <tr>\n",
       "      <th>Request: PASS rumpus</th>\n",
       "      <td> 67</td>\n",
       "    </tr>\n",
       "    <tr>\n",
       "      <th>Request: PASS run</th>\n",
       "      <td> 64</td>\n",
       "    </tr>\n",
       "  </tbody>\n",
       "</table>\n",
       "</div>"
      ],
      "text/plain": [
       "                                              Length\n",
       "Source      Destination Info                        \n",
       "10.10.10.15 10.10.10.5  Request: PASS rummy       66\n",
       "                        Request: PASS rump        65\n",
       "                        Request: PASS rumple      67\n",
       "                        Request: PASS rumpus      67\n",
       "                        Request: PASS run         64"
      ]
     },
     "execution_count": 33,
     "metadata": {},
     "output_type": "execute_result"
    }
   ],
   "source": [
    "category_group=infodata2.groupby(['Source','Destination','Info']).sum()\n",
    "category_group.head()"
   ]
  }
 ],
 "metadata": {
  "kernelspec": {
   "display_name": "Python 2",
   "language": "python",
   "name": "python2"
  },
  "language_info": {
   "codemirror_mode": {
    "name": "ipython",
    "version": 2
   },
   "file_extension": ".py",
   "mimetype": "text/x-python",
   "name": "python",
   "nbconvert_exporter": "python",
   "pygments_lexer": "ipython2",
   "version": "2.7.9"
  }
 },
 "nbformat": 4,
 "nbformat_minor": 0
}
