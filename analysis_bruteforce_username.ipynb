{
 "cells": [
  {
   "cell_type": "code",
   "execution_count": 38,
   "metadata": {
    "collapsed": true
   },
   "outputs": [],
   "source": [
    "import pandas as pd\n",
    "import numpy as np\n",
    "import matplotlib.pyplot as plt"
   ]
  },
  {
   "cell_type": "code",
   "execution_count": 39,
   "metadata": {
    "collapsed": true
   },
   "outputs": [],
   "source": [
    "%matplotlib inline"
   ]
  },
  {
   "cell_type": "code",
   "execution_count": 40,
   "metadata": {
    "collapsed": false,
    "scrolled": true
   },
   "outputs": [
    {
     "data": {
      "text/html": [
       "<div style=\"max-height:1000px;max-width:1500px;overflow:auto;\">\n",
       "<table border=\"1\" class=\"dataframe\">\n",
       "  <thead>\n",
       "    <tr style=\"text-align: right;\">\n",
       "      <th></th>\n",
       "      <th>No.</th>\n",
       "      <th>Time</th>\n",
       "      <th>Source</th>\n",
       "      <th>Destination</th>\n",
       "      <th>Protocol</th>\n",
       "      <th>Length</th>\n",
       "      <th>Info</th>\n",
       "    </tr>\n",
       "  </thead>\n",
       "  <tbody>\n",
       "    <tr>\n",
       "      <th>0</th>\n",
       "      <td>  9</td>\n",
       "      <td>2011-11-04 21:04:51</td>\n",
       "      <td> 10.10.10.15</td>\n",
       "      <td> 10.10.10.5</td>\n",
       "      <td> FTP</td>\n",
       "      <td> 66</td>\n",
       "      <td> Request: USER guest</td>\n",
       "    </tr>\n",
       "    <tr>\n",
       "      <th>1</th>\n",
       "      <td> 22</td>\n",
       "      <td>2011-11-04 21:04:51</td>\n",
       "      <td> 10.10.10.15</td>\n",
       "      <td> 10.10.10.5</td>\n",
       "      <td> FTP</td>\n",
       "      <td> 66</td>\n",
       "      <td> Request: USER guest</td>\n",
       "    </tr>\n",
       "    <tr>\n",
       "      <th>2</th>\n",
       "      <td> 35</td>\n",
       "      <td>2011-11-04 21:04:51</td>\n",
       "      <td> 10.10.10.15</td>\n",
       "      <td> 10.10.10.5</td>\n",
       "      <td> FTP</td>\n",
       "      <td> 66</td>\n",
       "      <td> Request: USER guest</td>\n",
       "    </tr>\n",
       "    <tr>\n",
       "      <th>3</th>\n",
       "      <td> 48</td>\n",
       "      <td>2011-11-04 21:04:51</td>\n",
       "      <td> 10.10.10.15</td>\n",
       "      <td> 10.10.10.5</td>\n",
       "      <td> FTP</td>\n",
       "      <td> 66</td>\n",
       "      <td> Request: USER guest</td>\n",
       "    </tr>\n",
       "    <tr>\n",
       "      <th>4</th>\n",
       "      <td> 61</td>\n",
       "      <td>2011-11-04 21:04:51</td>\n",
       "      <td> 10.10.10.15</td>\n",
       "      <td> 10.10.10.5</td>\n",
       "      <td> FTP</td>\n",
       "      <td> 66</td>\n",
       "      <td> Request: USER guest</td>\n",
       "    </tr>\n",
       "  </tbody>\n",
       "</table>\n",
       "</div>"
      ],
      "text/plain": [
       "   No.                Time       Source Destination Protocol  Length  \\\n",
       "0    9 2011-11-04 21:04:51  10.10.10.15  10.10.10.5      FTP      66   \n",
       "1   22 2011-11-04 21:04:51  10.10.10.15  10.10.10.5      FTP      66   \n",
       "2   35 2011-11-04 21:04:51  10.10.10.15  10.10.10.5      FTP      66   \n",
       "3   48 2011-11-04 21:04:51  10.10.10.15  10.10.10.5      FTP      66   \n",
       "4   61 2011-11-04 21:04:51  10.10.10.15  10.10.10.5      FTP      66   \n",
       "\n",
       "                  Info  \n",
       "0  Request: USER guest  \n",
       "1  Request: USER guest  \n",
       "2  Request: USER guest  \n",
       "3  Request: USER guest  \n",
       "4  Request: USER guest  "
      ]
     },
     "execution_count": 40,
     "metadata": {},
     "output_type": "execute_result"
    }
   ],
   "source": [
    "rhpass=pd.read_csv(\"filter-user-rp.csv\", parse_dates=['Time'])\n",
    "rhpass.head()"
   ]
  },
  {
   "cell_type": "code",
   "execution_count": 41,
   "metadata": {
    "collapsed": false
   },
   "outputs": [],
   "source": [
    "rhpass[\"Type\"] = rhpass.apply(lambda x: \"Client\" if x[\"Source\"] == rhpass.irow(0)[\"Source\"] else \"Server\", axis=1)"
   ]
  },
  {
   "cell_type": "code",
   "execution_count": 42,
   "metadata": {
    "collapsed": false,
    "scrolled": true
   },
   "outputs": [
    {
     "data": {
      "text/html": [
       "<div style=\"max-height:1000px;max-width:1500px;overflow:auto;\">\n",
       "<table border=\"1\" class=\"dataframe\">\n",
       "  <thead>\n",
       "    <tr style=\"text-align: right;\">\n",
       "      <th></th>\n",
       "      <th>No.</th>\n",
       "      <th>Time</th>\n",
       "      <th>Source</th>\n",
       "      <th>Destination</th>\n",
       "      <th>Protocol</th>\n",
       "      <th>Length</th>\n",
       "      <th>Info</th>\n",
       "      <th>Type</th>\n",
       "    </tr>\n",
       "  </thead>\n",
       "  <tbody>\n",
       "    <tr>\n",
       "      <th>0</th>\n",
       "      <td>  9</td>\n",
       "      <td>2011-11-04 21:04:51</td>\n",
       "      <td> 10.10.10.15</td>\n",
       "      <td> 10.10.10.5</td>\n",
       "      <td> FTP</td>\n",
       "      <td> 66</td>\n",
       "      <td> Request: USER guest</td>\n",
       "      <td> Client</td>\n",
       "    </tr>\n",
       "    <tr>\n",
       "      <th>1</th>\n",
       "      <td> 22</td>\n",
       "      <td>2011-11-04 21:04:51</td>\n",
       "      <td> 10.10.10.15</td>\n",
       "      <td> 10.10.10.5</td>\n",
       "      <td> FTP</td>\n",
       "      <td> 66</td>\n",
       "      <td> Request: USER guest</td>\n",
       "      <td> Client</td>\n",
       "    </tr>\n",
       "    <tr>\n",
       "      <th>2</th>\n",
       "      <td> 35</td>\n",
       "      <td>2011-11-04 21:04:51</td>\n",
       "      <td> 10.10.10.15</td>\n",
       "      <td> 10.10.10.5</td>\n",
       "      <td> FTP</td>\n",
       "      <td> 66</td>\n",
       "      <td> Request: USER guest</td>\n",
       "      <td> Client</td>\n",
       "    </tr>\n",
       "    <tr>\n",
       "      <th>3</th>\n",
       "      <td> 48</td>\n",
       "      <td>2011-11-04 21:04:51</td>\n",
       "      <td> 10.10.10.15</td>\n",
       "      <td> 10.10.10.5</td>\n",
       "      <td> FTP</td>\n",
       "      <td> 66</td>\n",
       "      <td> Request: USER guest</td>\n",
       "      <td> Client</td>\n",
       "    </tr>\n",
       "    <tr>\n",
       "      <th>4</th>\n",
       "      <td> 61</td>\n",
       "      <td>2011-11-04 21:04:51</td>\n",
       "      <td> 10.10.10.15</td>\n",
       "      <td> 10.10.10.5</td>\n",
       "      <td> FTP</td>\n",
       "      <td> 66</td>\n",
       "      <td> Request: USER guest</td>\n",
       "      <td> Client</td>\n",
       "    </tr>\n",
       "  </tbody>\n",
       "</table>\n",
       "</div>"
      ],
      "text/plain": [
       "   No.                Time       Source Destination Protocol  Length  \\\n",
       "0    9 2011-11-04 21:04:51  10.10.10.15  10.10.10.5      FTP      66   \n",
       "1   22 2011-11-04 21:04:51  10.10.10.15  10.10.10.5      FTP      66   \n",
       "2   35 2011-11-04 21:04:51  10.10.10.15  10.10.10.5      FTP      66   \n",
       "3   48 2011-11-04 21:04:51  10.10.10.15  10.10.10.5      FTP      66   \n",
       "4   61 2011-11-04 21:04:51  10.10.10.15  10.10.10.5      FTP      66   \n",
       "\n",
       "                  Info    Type  \n",
       "0  Request: USER guest  Client  \n",
       "1  Request: USER guest  Client  \n",
       "2  Request: USER guest  Client  \n",
       "3  Request: USER guest  Client  \n",
       "4  Request: USER guest  Client  "
      ]
     },
     "execution_count": 42,
     "metadata": {},
     "output_type": "execute_result"
    }
   ],
   "source": [
    "rhpass.head()"
   ]
  },
  {
   "cell_type": "code",
   "execution_count": 43,
   "metadata": {
    "collapsed": false
   },
   "outputs": [
    {
     "data": {
      "text/html": [
       "<div style=\"max-height:1000px;max-width:1500px;overflow:auto;\">\n",
       "<table border=\"1\" class=\"dataframe\">\n",
       "  <thead>\n",
       "    <tr style=\"text-align: right;\">\n",
       "      <th></th>\n",
       "      <th>Length</th>\n",
       "      <th>Time</th>\n",
       "      <th>Info</th>\n",
       "    </tr>\n",
       "  </thead>\n",
       "  <tbody>\n",
       "    <tr>\n",
       "      <th>0</th>\n",
       "      <td> 66</td>\n",
       "      <td>2011-11-04 21:04:51</td>\n",
       "      <td> Request: USER guest</td>\n",
       "    </tr>\n",
       "    <tr>\n",
       "      <th>1</th>\n",
       "      <td> 66</td>\n",
       "      <td>2011-11-04 21:04:51</td>\n",
       "      <td> Request: USER guest</td>\n",
       "    </tr>\n",
       "    <tr>\n",
       "      <th>2</th>\n",
       "      <td> 66</td>\n",
       "      <td>2011-11-04 21:04:51</td>\n",
       "      <td> Request: USER guest</td>\n",
       "    </tr>\n",
       "    <tr>\n",
       "      <th>3</th>\n",
       "      <td> 66</td>\n",
       "      <td>2011-11-04 21:04:51</td>\n",
       "      <td> Request: USER guest</td>\n",
       "    </tr>\n",
       "    <tr>\n",
       "      <th>4</th>\n",
       "      <td> 66</td>\n",
       "      <td>2011-11-04 21:04:51</td>\n",
       "      <td> Request: USER guest</td>\n",
       "    </tr>\n",
       "  </tbody>\n",
       "</table>\n",
       "</div>"
      ],
      "text/plain": [
       "   Length                Time                 Info\n",
       "0      66 2011-11-04 21:04:51  Request: USER guest\n",
       "1      66 2011-11-04 21:04:51  Request: USER guest\n",
       "2      66 2011-11-04 21:04:51  Request: USER guest\n",
       "3      66 2011-11-04 21:04:51  Request: USER guest\n",
       "4      66 2011-11-04 21:04:51  Request: USER guest"
      ]
     },
     "execution_count": 43,
     "metadata": {},
     "output_type": "execute_result"
    }
   ],
   "source": [
    "infodata2 = rhpass[['Length','Time','Info']]\n",
    "infodata2.head()"
   ]
  },
  {
   "cell_type": "code",
   "execution_count": 44,
   "metadata": {
    "collapsed": false
   },
   "outputs": [
    {
     "data": {
      "text/html": [
       "<div style=\"max-height:1000px;max-width:1500px;overflow:auto;\">\n",
       "<table border=\"1\" class=\"dataframe\">\n",
       "  <thead>\n",
       "    <tr style=\"text-align: right;\">\n",
       "      <th></th>\n",
       "      <th>Length</th>\n",
       "      <th>Info</th>\n",
       "    </tr>\n",
       "    <tr>\n",
       "      <th>Time</th>\n",
       "      <th></th>\n",
       "      <th></th>\n",
       "    </tr>\n",
       "  </thead>\n",
       "  <tbody>\n",
       "    <tr>\n",
       "      <th>2011-11-04 21:04:51</th>\n",
       "      <td> 66</td>\n",
       "      <td> Request: USER guest</td>\n",
       "    </tr>\n",
       "    <tr>\n",
       "      <th>2011-11-04 21:04:51</th>\n",
       "      <td> 66</td>\n",
       "      <td> Request: USER guest</td>\n",
       "    </tr>\n",
       "    <tr>\n",
       "      <th>2011-11-04 21:04:51</th>\n",
       "      <td> 66</td>\n",
       "      <td> Request: USER guest</td>\n",
       "    </tr>\n",
       "    <tr>\n",
       "      <th>2011-11-04 21:04:51</th>\n",
       "      <td> 66</td>\n",
       "      <td> Request: USER guest</td>\n",
       "    </tr>\n",
       "    <tr>\n",
       "      <th>2011-11-04 21:04:51</th>\n",
       "      <td> 66</td>\n",
       "      <td> Request: USER guest</td>\n",
       "    </tr>\n",
       "  </tbody>\n",
       "</table>\n",
       "</div>"
      ],
      "text/plain": [
       "                     Length                 Info\n",
       "Time                                            \n",
       "2011-11-04 21:04:51      66  Request: USER guest\n",
       "2011-11-04 21:04:51      66  Request: USER guest\n",
       "2011-11-04 21:04:51      66  Request: USER guest\n",
       "2011-11-04 21:04:51      66  Request: USER guest\n",
       "2011-11-04 21:04:51      66  Request: USER guest"
      ]
     },
     "execution_count": 44,
     "metadata": {},
     "output_type": "execute_result"
    }
   ],
   "source": [
    "infodata2 = infodata2.set_index('Time')\n",
    "infodata2.head()"
   ]
  },
  {
   "cell_type": "code",
   "execution_count": 45,
   "metadata": {
    "collapsed": false,
    "scrolled": true
   },
   "outputs": [
    {
     "data": {
      "text/html": [
       "<div style=\"max-height:1000px;max-width:1500px;overflow:auto;\">\n",
       "<table border=\"1\" class=\"dataframe\">\n",
       "  <thead>\n",
       "    <tr style=\"text-align: right;\">\n",
       "      <th></th>\n",
       "      <th>Length</th>\n",
       "    </tr>\n",
       "    <tr>\n",
       "      <th>Time</th>\n",
       "      <th></th>\n",
       "    </tr>\n",
       "  </thead>\n",
       "  <tbody>\n",
       "    <tr>\n",
       "      <th>2011-11-04 21:04:00</th>\n",
       "      <td>  2442</td>\n",
       "    </tr>\n",
       "    <tr>\n",
       "      <th>2011-11-04 21:05:00</th>\n",
       "      <td> 16764</td>\n",
       "    </tr>\n",
       "    <tr>\n",
       "      <th>2011-11-04 21:06:00</th>\n",
       "      <td> 16896</td>\n",
       "    </tr>\n",
       "    <tr>\n",
       "      <th>2011-11-04 21:07:00</th>\n",
       "      <td> 16632</td>\n",
       "    </tr>\n",
       "    <tr>\n",
       "      <th>2011-11-04 21:08:00</th>\n",
       "      <td> 16764</td>\n",
       "    </tr>\n",
       "  </tbody>\n",
       "</table>\n",
       "</div>"
      ],
      "text/plain": [
       "                     Length\n",
       "Time                       \n",
       "2011-11-04 21:04:00    2442\n",
       "2011-11-04 21:05:00   16764\n",
       "2011-11-04 21:06:00   16896\n",
       "2011-11-04 21:07:00   16632\n",
       "2011-11-04 21:08:00   16764"
      ]
     },
     "execution_count": 45,
     "metadata": {},
     "output_type": "execute_result"
    }
   ],
   "source": [
    "infodata2.resample('T',how=sum).head()"
   ]
  },
  {
   "cell_type": "code",
   "execution_count": 46,
   "metadata": {
    "collapsed": false,
    "scrolled": false
   },
   "outputs": [
    {
     "data": {
      "image/png": "[encoded data removed]",
      "text/plain": [
       "<matplotlib.figure.Figure at 0xabc0c54c>"
      ]
     },
     "metadata": {},
     "output_type": "display_data"
    }
   ],
   "source": [
    "infodata2_plot = infodata2.resample('T',how=sum).plot(kind=\"barh\",title=\"Brute Force Dictionary Username per menit\",style=\"r\",figsize=(20,4))"
   ]
  },
  {
   "cell_type": "code",
   "execution_count": 47,
   "metadata": {
    "collapsed": true
   },
   "outputs": [],
   "source": [
    "fig = infodata2_plot.get_figure()\n",
    "fig.savefig(\"Brute-force-list-username-permenit.png\")"
   ]
  },
  {
   "cell_type": "code",
   "execution_count": 48,
   "metadata": {
    "collapsed": false,
    "scrolled": true
   },
   "outputs": [
    {
     "data": {
      "text/html": [
       "<div style=\"max-height:1000px;max-width:1500px;overflow:auto;\">\n",
       "<table border=\"1\" class=\"dataframe\">\n",
       "  <thead>\n",
       "    <tr style=\"text-align: right;\">\n",
       "      <th></th>\n",
       "      <th>Length</th>\n",
       "    </tr>\n",
       "    <tr>\n",
       "      <th>Time</th>\n",
       "      <th></th>\n",
       "    </tr>\n",
       "  </thead>\n",
       "  <tbody>\n",
       "    <tr>\n",
       "      <th>2011-11-04 21:04:51</th>\n",
       "      <td> 330</td>\n",
       "    </tr>\n",
       "    <tr>\n",
       "      <th>2011-11-04 21:04:52</th>\n",
       "      <td> 132</td>\n",
       "    </tr>\n",
       "    <tr>\n",
       "      <th>2011-11-04 21:04:53</th>\n",
       "      <td> 396</td>\n",
       "    </tr>\n",
       "    <tr>\n",
       "      <th>2011-11-04 21:04:54</th>\n",
       "      <td> 264</td>\n",
       "    </tr>\n",
       "    <tr>\n",
       "      <th>2011-11-04 21:04:55</th>\n",
       "      <td> 198</td>\n",
       "    </tr>\n",
       "  </tbody>\n",
       "</table>\n",
       "</div>"
      ],
      "text/plain": [
       "                     Length\n",
       "Time                       \n",
       "2011-11-04 21:04:51     330\n",
       "2011-11-04 21:04:52     132\n",
       "2011-11-04 21:04:53     396\n",
       "2011-11-04 21:04:54     264\n",
       "2011-11-04 21:04:55     198"
      ]
     },
     "execution_count": 48,
     "metadata": {},
     "output_type": "execute_result"
    }
   ],
   "source": [
    "infodata2.resample('S',how=sum).head()"
   ]
  },
  {
   "cell_type": "code",
   "execution_count": 49,
   "metadata": {
    "collapsed": false,
    "scrolled": false
   },
   "outputs": [
    {
     "data": {
      "image/png": "[encoded data removed]",
      "text/plain": [
       "<matplotlib.figure.Figure at 0xab7f368c>"
      ]
     },
     "metadata": {},
     "output_type": "display_data"
    }
   ],
   "source": [
    "infodata2_plot = infodata2.resample('S',how=sum).plot(kind=\"line\",title=\"Brute Force Dictionary Username per seconds\",figsize=(20,4))"
   ]
  },
  {
   "cell_type": "code",
   "execution_count": 50,
   "metadata": {
    "collapsed": true
   },
   "outputs": [],
   "source": [
    "fig = infodata2_plot.get_figure()\n",
    "fig.savefig(\"Brute Force Dictionary username.png\")"
   ]
  }
 ],
 "metadata": {
  "kernelspec": {
   "display_name": "Python 2",
   "language": "python",
   "name": "python2"
  },
  "language_info": {
   "codemirror_mode": {
    "name": "ipython",
    "version": 2
   },
   "file_extension": ".py",
   "mimetype": "text/x-python",
   "name": "python",
   "nbconvert_exporter": "python",
   "pygments_lexer": "ipython2",
   "version": "2.7.9"
  }
 },
 "nbformat": 4,
 "nbformat_minor": 0
}
