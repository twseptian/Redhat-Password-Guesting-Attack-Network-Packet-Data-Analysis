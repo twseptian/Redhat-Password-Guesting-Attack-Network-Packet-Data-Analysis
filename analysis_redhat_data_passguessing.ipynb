{
 "cells": [
  {
   "cell_type": "code",
   "execution_count": 28,
   "metadata": {
    "collapsed": false
   },
   "outputs": [],
   "source": [
    "import pandas as pd\n",
    "import numpy as np\n",
    "import matplotlib.pyplot as plt"
   ]
  },
  {
   "cell_type": "code",
   "execution_count": 29,
   "metadata": {
    "collapsed": true
   },
   "outputs": [],
   "source": [
    "%matplotlib inline"
   ]
  },
  {
   "cell_type": "code",
   "execution_count": 30,
   "metadata": {
    "collapsed": false
   },
   "outputs": [
    {
     "data": {
      "text/html": [
       "<div style=\"max-height:1000px;max-width:1500px;overflow:auto;\">\n",
       "<table border=\"1\" class=\"dataframe\">\n",
       "  <thead>\n",
       "    <tr style=\"text-align: right;\">\n",
       "      <th></th>\n",
       "      <th>No.</th>\n",
       "      <th>Time</th>\n",
       "      <th>Source</th>\n",
       "      <th>Destination</th>\n",
       "      <th>Protocol</th>\n",
       "      <th>Length</th>\n",
       "      <th>Info</th>\n",
       "    </tr>\n",
       "  </thead>\n",
       "  <tbody>\n",
       "    <tr>\n",
       "      <th>0</th>\n",
       "      <td> 1</td>\n",
       "      <td>2011-11-04 21:04:51</td>\n",
       "      <td>  10.10.10.5</td>\n",
       "      <td> 10.10.10.15</td>\n",
       "      <td> FTP</td>\n",
       "      <td> 76</td>\n",
       "      <td>                    Response: 530 Login incorrect.</td>\n",
       "    </tr>\n",
       "    <tr>\n",
       "      <th>1</th>\n",
       "      <td> 2</td>\n",
       "      <td>2011-11-04 21:04:51</td>\n",
       "      <td> 10.10.10.15</td>\n",
       "      <td>  10.10.10.5</td>\n",
       "      <td> TCP</td>\n",
       "      <td> 54</td>\n",
       "      <td> 32213 &gt; 21 [FIN, ACK] Seq=1 Ack=23 Win=65459 L...</td>\n",
       "    </tr>\n",
       "    <tr>\n",
       "      <th>2</th>\n",
       "      <td> 3</td>\n",
       "      <td>2011-11-04 21:04:51</td>\n",
       "      <td>  10.10.10.5</td>\n",
       "      <td> 10.10.10.15</td>\n",
       "      <td> FTP</td>\n",
       "      <td> 64</td>\n",
       "      <td>                              Response: 500 OOPS: </td>\n",
       "    </tr>\n",
       "    <tr>\n",
       "      <th>3</th>\n",
       "      <td> 4</td>\n",
       "      <td>2011-11-04 21:04:51</td>\n",
       "      <td> 10.10.10.15</td>\n",
       "      <td>  10.10.10.5</td>\n",
       "      <td> TCP</td>\n",
       "      <td> 54</td>\n",
       "      <td>    32213 &gt; 21 [RST, ACK] Seq=2 Ack=33 Win=0 Len=0</td>\n",
       "    </tr>\n",
       "    <tr>\n",
       "      <th>4</th>\n",
       "      <td> 5</td>\n",
       "      <td>2011-11-04 21:04:51</td>\n",
       "      <td> 10.10.10.15</td>\n",
       "      <td>  10.10.10.5</td>\n",
       "      <td> TCP</td>\n",
       "      <td> 62</td>\n",
       "      <td> 32224 &gt; 21 [SYN] Seq=0 Win=65535 Len=0 MSS=146...</td>\n",
       "    </tr>\n",
       "  </tbody>\n",
       "</table>\n",
       "</div>"
      ],
      "text/plain": [
       "   No.                Time       Source  Destination Protocol  Length  \\\n",
       "0    1 2011-11-04 21:04:51   10.10.10.5  10.10.10.15      FTP      76   \n",
       "1    2 2011-11-04 21:04:51  10.10.10.15   10.10.10.5      TCP      54   \n",
       "2    3 2011-11-04 21:04:51   10.10.10.5  10.10.10.15      FTP      64   \n",
       "3    4 2011-11-04 21:04:51  10.10.10.15   10.10.10.5      TCP      54   \n",
       "4    5 2011-11-04 21:04:51  10.10.10.15   10.10.10.5      TCP      62   \n",
       "\n",
       "                                                Info  \n",
       "0                     Response: 530 Login incorrect.  \n",
       "1  32213 > 21 [FIN, ACK] Seq=1 Ack=23 Win=65459 L...  \n",
       "2                               Response: 500 OOPS:   \n",
       "3     32213 > 21 [RST, ACK] Seq=2 Ack=33 Win=0 Len=0  \n",
       "4  32224 > 21 [SYN] Seq=0 Win=65535 Len=0 MSS=146...  "
      ]
     },
     "execution_count": 30,
     "metadata": {},
     "output_type": "execute_result"
    }
   ],
   "source": [
    "rhpass=pd.read_csv(\"redhat_passguessing_2-edit.csv\", parse_dates=['Time'])\n",
    "rhpass.head()"
   ]
  },
  {
   "cell_type": "code",
   "execution_count": 31,
   "metadata": {
    "collapsed": false
   },
   "outputs": [
    {
     "data": {
      "text/html": [
       "<div style=\"max-height:1000px;max-width:1500px;overflow:auto;\">\n",
       "<table border=\"1\" class=\"dataframe\">\n",
       "  <thead>\n",
       "    <tr style=\"text-align: right;\">\n",
       "      <th></th>\n",
       "      <th>No.</th>\n",
       "      <th>Length</th>\n",
       "    </tr>\n",
       "  </thead>\n",
       "  <tbody>\n",
       "    <tr>\n",
       "      <th>count</th>\n",
       "      <td> 18799.000000</td>\n",
       "      <td> 18799.000000</td>\n",
       "    </tr>\n",
       "    <tr>\n",
       "      <th>mean</th>\n",
       "      <td>  9400.000000</td>\n",
       "      <td>    65.752221</td>\n",
       "    </tr>\n",
       "    <tr>\n",
       "      <th>std</th>\n",
       "      <td>  5426.948191</td>\n",
       "      <td>    24.349490</td>\n",
       "    </tr>\n",
       "    <tr>\n",
       "      <th>min</th>\n",
       "      <td>     1.000000</td>\n",
       "      <td>    42.000000</td>\n",
       "    </tr>\n",
       "    <tr>\n",
       "      <th>25%</th>\n",
       "      <td>  4700.500000</td>\n",
       "      <td>    60.000000</td>\n",
       "    </tr>\n",
       "    <tr>\n",
       "      <th>50%</th>\n",
       "      <td>  9400.000000</td>\n",
       "      <td>    62.000000</td>\n",
       "    </tr>\n",
       "    <tr>\n",
       "      <th>75%</th>\n",
       "      <td> 14099.500000</td>\n",
       "      <td>    70.000000</td>\n",
       "    </tr>\n",
       "    <tr>\n",
       "      <th>max</th>\n",
       "      <td> 18799.000000</td>\n",
       "      <td>   590.000000</td>\n",
       "    </tr>\n",
       "  </tbody>\n",
       "</table>\n",
       "</div>"
      ],
      "text/plain": [
       "                No.        Length\n",
       "count  18799.000000  18799.000000\n",
       "mean    9400.000000     65.752221\n",
       "std     5426.948191     24.349490\n",
       "min        1.000000     42.000000\n",
       "25%     4700.500000     60.000000\n",
       "50%     9400.000000     62.000000\n",
       "75%    14099.500000     70.000000\n",
       "max    18799.000000    590.000000"
      ]
     },
     "execution_count": 31,
     "metadata": {},
     "output_type": "execute_result"
    }
   ],
   "source": [
    "rhpass.describe()"
   ]
  },
  {
   "cell_type": "code",
   "execution_count": 32,
   "metadata": {
    "collapsed": false
   },
   "outputs": [
    {
     "data": {
      "text/plain": [
       "count                              18799\n",
       "unique                             11557\n",
       "top       Response: 530 Login incorrect.\n",
       "freq                                1436\n",
       "dtype: object"
      ]
     },
     "execution_count": 32,
     "metadata": {},
     "output_type": "execute_result"
    }
   ],
   "source": [
    "rhpass['Info'].describe()"
   ]
  },
  {
   "cell_type": "code",
   "execution_count": 33,
   "metadata": {
    "collapsed": false
   },
   "outputs": [],
   "source": [
    "infodata = rhpass[['Time','Source','Destination','Protocol',\n",
    "                  'Length','Info']]"
   ]
  },
  {
   "cell_type": "code",
   "execution_count": 34,
   "metadata": {
    "collapsed": false
   },
   "outputs": [
    {
     "data": {
      "text/html": [
       "<div style=\"max-height:1000px;max-width:1500px;overflow:auto;\">\n",
       "<table border=\"1\" class=\"dataframe\">\n",
       "  <thead>\n",
       "    <tr style=\"text-align: right;\">\n",
       "      <th></th>\n",
       "      <th>Time</th>\n",
       "      <th>Source</th>\n",
       "      <th>Destination</th>\n",
       "      <th>Protocol</th>\n",
       "      <th>Length</th>\n",
       "      <th>Info</th>\n",
       "    </tr>\n",
       "  </thead>\n",
       "  <tbody>\n",
       "    <tr>\n",
       "      <th>0</th>\n",
       "      <td>2011-11-04 21:04:51</td>\n",
       "      <td>  10.10.10.5</td>\n",
       "      <td> 10.10.10.15</td>\n",
       "      <td> FTP</td>\n",
       "      <td> 76</td>\n",
       "      <td>                    Response: 530 Login incorrect.</td>\n",
       "    </tr>\n",
       "    <tr>\n",
       "      <th>1</th>\n",
       "      <td>2011-11-04 21:04:51</td>\n",
       "      <td> 10.10.10.15</td>\n",
       "      <td>  10.10.10.5</td>\n",
       "      <td> TCP</td>\n",
       "      <td> 54</td>\n",
       "      <td> 32213 &gt; 21 [FIN, ACK] Seq=1 Ack=23 Win=65459 L...</td>\n",
       "    </tr>\n",
       "    <tr>\n",
       "      <th>2</th>\n",
       "      <td>2011-11-04 21:04:51</td>\n",
       "      <td>  10.10.10.5</td>\n",
       "      <td> 10.10.10.15</td>\n",
       "      <td> FTP</td>\n",
       "      <td> 64</td>\n",
       "      <td>                              Response: 500 OOPS: </td>\n",
       "    </tr>\n",
       "    <tr>\n",
       "      <th>3</th>\n",
       "      <td>2011-11-04 21:04:51</td>\n",
       "      <td> 10.10.10.15</td>\n",
       "      <td>  10.10.10.5</td>\n",
       "      <td> TCP</td>\n",
       "      <td> 54</td>\n",
       "      <td>    32213 &gt; 21 [RST, ACK] Seq=2 Ack=33 Win=0 Len=0</td>\n",
       "    </tr>\n",
       "    <tr>\n",
       "      <th>4</th>\n",
       "      <td>2011-11-04 21:04:51</td>\n",
       "      <td> 10.10.10.15</td>\n",
       "      <td>  10.10.10.5</td>\n",
       "      <td> TCP</td>\n",
       "      <td> 62</td>\n",
       "      <td> 32224 &gt; 21 [SYN] Seq=0 Win=65535 Len=0 MSS=146...</td>\n",
       "    </tr>\n",
       "  </tbody>\n",
       "</table>\n",
       "</div>"
      ],
      "text/plain": [
       "                 Time       Source  Destination Protocol  Length  \\\n",
       "0 2011-11-04 21:04:51   10.10.10.5  10.10.10.15      FTP      76   \n",
       "1 2011-11-04 21:04:51  10.10.10.15   10.10.10.5      TCP      54   \n",
       "2 2011-11-04 21:04:51   10.10.10.5  10.10.10.15      FTP      64   \n",
       "3 2011-11-04 21:04:51  10.10.10.15   10.10.10.5      TCP      54   \n",
       "4 2011-11-04 21:04:51  10.10.10.15   10.10.10.5      TCP      62   \n",
       "\n",
       "                                                Info  \n",
       "0                     Response: 530 Login incorrect.  \n",
       "1  32213 > 21 [FIN, ACK] Seq=1 Ack=23 Win=65459 L...  \n",
       "2                               Response: 500 OOPS:   \n",
       "3     32213 > 21 [RST, ACK] Seq=2 Ack=33 Win=0 Len=0  \n",
       "4  32224 > 21 [SYN] Seq=0 Win=65535 Len=0 MSS=146...  "
      ]
     },
     "execution_count": 34,
     "metadata": {},
     "output_type": "execute_result"
    }
   ],
   "source": [
    "infodata.head()"
   ]
  },
  {
   "cell_type": "code",
   "execution_count": 35,
   "metadata": {
    "collapsed": false
   },
   "outputs": [
    {
     "data": {
      "text/html": [
       "<div style=\"max-height:1000px;max-width:1500px;overflow:auto;\">\n",
       "<table border=\"1\" class=\"dataframe\">\n",
       "  <thead>\n",
       "    <tr style=\"text-align: right;\">\n",
       "      <th></th>\n",
       "      <th></th>\n",
       "      <th></th>\n",
       "      <th>Length</th>\n",
       "    </tr>\n",
       "    <tr>\n",
       "      <th>Source</th>\n",
       "      <th>Destination</th>\n",
       "      <th>Protocol</th>\n",
       "      <th></th>\n",
       "    </tr>\n",
       "  </thead>\n",
       "  <tbody>\n",
       "    <tr>\n",
       "      <th>0.0.0.0</th>\n",
       "      <th>255.255.255.255</th>\n",
       "      <th>DHCP</th>\n",
       "      <td>  20060</td>\n",
       "    </tr>\n",
       "    <tr>\n",
       "      <th rowspan=\"2\" valign=\"top\">10.10.10.15</th>\n",
       "      <th rowspan=\"2\" valign=\"top\">10.10.10.5</th>\n",
       "      <th>FTP</th>\n",
       "      <td> 192157</td>\n",
       "    </tr>\n",
       "    <tr>\n",
       "      <th>TCP</th>\n",
       "      <td> 323978</td>\n",
       "    </tr>\n",
       "    <tr>\n",
       "      <th rowspan=\"2\" valign=\"top\">10.10.10.5</th>\n",
       "      <th rowspan=\"2\" valign=\"top\">10.10.10.15</th>\n",
       "      <th>FTP</th>\n",
       "      <td> 437292</td>\n",
       "    </tr>\n",
       "    <tr>\n",
       "      <th>TCP</th>\n",
       "      <td> 261710</td>\n",
       "    </tr>\n",
       "  </tbody>\n",
       "</table>\n",
       "</div>"
      ],
      "text/plain": [
       "                                      Length\n",
       "Source      Destination     Protocol        \n",
       "0.0.0.0     255.255.255.255 DHCP       20060\n",
       "10.10.10.15 10.10.10.5      FTP       192157\n",
       "                            TCP       323978\n",
       "10.10.10.5  10.10.10.15     FTP       437292\n",
       "                            TCP       261710"
      ]
     },
     "execution_count": 35,
     "metadata": {},
     "output_type": "execute_result"
    }
   ],
   "source": [
    "category_group=infodata.groupby(['Source','Destination','Protocol']).sum()\n",
    "category_group.head()"
   ]
  },
  {
   "cell_type": "code",
   "execution_count": 36,
   "metadata": {
    "collapsed": false
   },
   "outputs": [
    {
     "data": {
      "text/html": [
       "<div style=\"max-height:1000px;max-width:1500px;overflow:auto;\">\n",
       "<table border=\"1\" class=\"dataframe\">\n",
       "  <thead>\n",
       "    <tr>\n",
       "      <th></th>\n",
       "      <th></th>\n",
       "      <th colspan=\"6\" halign=\"left\">Length</th>\n",
       "    </tr>\n",
       "    <tr>\n",
       "      <th></th>\n",
       "      <th>Protocol</th>\n",
       "      <th>ARP</th>\n",
       "      <th>BROWSER</th>\n",
       "      <th>DHCP</th>\n",
       "      <th>DHCPv6</th>\n",
       "      <th>FTP</th>\n",
       "      <th>TCP</th>\n",
       "    </tr>\n",
       "    <tr>\n",
       "      <th>Source</th>\n",
       "      <th>Destination</th>\n",
       "      <th></th>\n",
       "      <th></th>\n",
       "      <th></th>\n",
       "      <th></th>\n",
       "      <th></th>\n",
       "      <th></th>\n",
       "    </tr>\n",
       "  </thead>\n",
       "  <tbody>\n",
       "    <tr>\n",
       "      <th>0.0.0.0</th>\n",
       "      <th>255.255.255.255</th>\n",
       "      <td>NaN</td>\n",
       "      <td> NaN</td>\n",
       "      <td> 20060</td>\n",
       "      <td>NaN</td>\n",
       "      <td>    NaN</td>\n",
       "      <td>    NaN</td>\n",
       "    </tr>\n",
       "    <tr>\n",
       "      <th>10.10.10.15</th>\n",
       "      <th>10.10.10.5</th>\n",
       "      <td>NaN</td>\n",
       "      <td> NaN</td>\n",
       "      <td>   NaN</td>\n",
       "      <td>NaN</td>\n",
       "      <td> 192157</td>\n",
       "      <td> 323978</td>\n",
       "    </tr>\n",
       "    <tr>\n",
       "      <th rowspan=\"2\" valign=\"top\">10.10.10.5</th>\n",
       "      <th>10.10.10.15</th>\n",
       "      <td>NaN</td>\n",
       "      <td> NaN</td>\n",
       "      <td>   NaN</td>\n",
       "      <td>NaN</td>\n",
       "      <td> 437292</td>\n",
       "      <td> 261710</td>\n",
       "    </tr>\n",
       "    <tr>\n",
       "      <th>10.10.10.255</th>\n",
       "      <td>NaN</td>\n",
       "      <td> 507</td>\n",
       "      <td>   NaN</td>\n",
       "      <td>NaN</td>\n",
       "      <td>    NaN</td>\n",
       "      <td>    NaN</td>\n",
       "    </tr>\n",
       "    <tr>\n",
       "      <th>Micro-St_60:f8:09</th>\n",
       "      <th>Tp-LinkT_b5:79:3f</th>\n",
       "      <td> 60</td>\n",
       "      <td> NaN</td>\n",
       "      <td>   NaN</td>\n",
       "      <td>NaN</td>\n",
       "      <td>    NaN</td>\n",
       "      <td>    NaN</td>\n",
       "    </tr>\n",
       "  </tbody>\n",
       "</table>\n",
       "</div>"
      ],
      "text/plain": [
       "                                     Length                                  \\\n",
       "Protocol                                ARP  BROWSER   DHCP  DHCPv6     FTP   \n",
       "Source            Destination                                                 \n",
       "0.0.0.0           255.255.255.255       NaN      NaN  20060     NaN     NaN   \n",
       "10.10.10.15       10.10.10.5            NaN      NaN    NaN     NaN  192157   \n",
       "10.10.10.5        10.10.10.15           NaN      NaN    NaN     NaN  437292   \n",
       "                  10.10.10.255          NaN      507    NaN     NaN     NaN   \n",
       "Micro-St_60:f8:09 Tp-LinkT_b5:79:3f      60      NaN    NaN     NaN     NaN   \n",
       "\n",
       "                                             \n",
       "Protocol                                TCP  \n",
       "Source            Destination                \n",
       "0.0.0.0           255.255.255.255       NaN  \n",
       "10.10.10.15       10.10.10.5         323978  \n",
       "10.10.10.5        10.10.10.15        261710  \n",
       "                  10.10.10.255          NaN  \n",
       "Micro-St_60:f8:09 Tp-LinkT_b5:79:3f     NaN  "
      ]
     },
     "execution_count": 36,
     "metadata": {},
     "output_type": "execute_result"
    }
   ],
   "source": [
    "category_group.unstack().head()"
   ]
  },
  {
   "cell_type": "code",
   "execution_count": 37,
   "metadata": {
    "collapsed": false,
    "scrolled": true
   },
   "outputs": [
    {
     "data": {
      "text/plain": [
       "<matplotlib.text.Text at 0xa86bdf2c>"
      ]
     },
     "execution_count": 37,
     "metadata": {},
     "output_type": "execute_result"
    },
    {
     "data": {
      "image/png": "[encoded data removed]",
      "text/plain": [
       "<matplotlib.figure.Figure at 0xa95c506c>"
      ]
     },
     "metadata": {},
     "output_type": "display_data"
    }
   ],
   "source": [
    "my_plot = category_group.plot(kind='barh',stacked=True,title=\"Total Packet Protocol Data\",figsize=(20,4))\n",
    "my_plot.set_xlabel(\"Length Protocol\")\n",
    "my_plot.set_ylabel(\"Source IP - Destination IP\")"
   ]
  },
  {
   "cell_type": "code",
   "execution_count": 38,
   "metadata": {
    "collapsed": false
   },
   "outputs": [],
   "source": [
    "fig = my_plot.get_figure()\n",
    "fig.savefig(\"total-packet-protocol-data-redhat-passguessing.png\")"
   ]
  },
  {
   "cell_type": "code",
   "execution_count": 39,
   "metadata": {
    "collapsed": false,
    "scrolled": true
   },
   "outputs": [
    {
     "data": {
      "text/plain": [
       "<matplotlib.legend.Legend at 0xa9595ccc>"
      ]
     },
     "execution_count": 39,
     "metadata": {},
     "output_type": "execute_result"
    },
    {
     "data": {
      "image/png": "[encoded data removed]",
      "text/plain": [
       "<matplotlib.figure.Figure at 0xa95e6f4c>"
      ]
     },
     "metadata": {},
     "output_type": "display_data"
    }
   ],
   "source": [
    "my_plot = category_group.unstack().plot(kind='barh',stacked=True,title=\"Total Protocol\",figsize=(20, 4))\n",
    "my_plot.set_xlabel(\"Frekuensi Protocol\")\n",
    "my_plot.set_ylabel(\"IP address\")\n",
    "my_plot.legend([\"Total\",\"ARP\",\"BROWSER\",\"DHCP\",\"DHCPv6\",\"FTP\",\"TCP\"], loc=9,ncol=2)"
   ]
  },
  {
   "cell_type": "code",
   "execution_count": 40,
   "metadata": {
    "collapsed": true
   },
   "outputs": [],
   "source": [
    "fig = my_plot.get_figure()\n",
    "fig.savefig(\"total-protocol-redhat-passguessing.png\")"
   ]
  },
  {
   "cell_type": "code",
   "execution_count": 41,
   "metadata": {
    "collapsed": false,
    "scrolled": false
   },
   "outputs": [
    {
     "data": {
      "text/html": [
       "<div style=\"max-height:1000px;max-width:1500px;overflow:auto;\">\n",
       "<table border=\"1\" class=\"dataframe\">\n",
       "  <thead>\n",
       "    <tr style=\"text-align: right;\">\n",
       "      <th></th>\n",
       "      <th>Time</th>\n",
       "      <th>Length</th>\n",
       "      <th>Info</th>\n",
       "    </tr>\n",
       "  </thead>\n",
       "  <tbody>\n",
       "    <tr>\n",
       "      <th>0</th>\n",
       "      <td>2011-11-04 21:04:51</td>\n",
       "      <td> 76</td>\n",
       "      <td>                    Response: 530 Login incorrect.</td>\n",
       "    </tr>\n",
       "    <tr>\n",
       "      <th>1</th>\n",
       "      <td>2011-11-04 21:04:51</td>\n",
       "      <td> 54</td>\n",
       "      <td> 32213 &gt; 21 [FIN, ACK] Seq=1 Ack=23 Win=65459 L...</td>\n",
       "    </tr>\n",
       "    <tr>\n",
       "      <th>2</th>\n",
       "      <td>2011-11-04 21:04:51</td>\n",
       "      <td> 64</td>\n",
       "      <td>                              Response: 500 OOPS: </td>\n",
       "    </tr>\n",
       "    <tr>\n",
       "      <th>3</th>\n",
       "      <td>2011-11-04 21:04:51</td>\n",
       "      <td> 54</td>\n",
       "      <td>    32213 &gt; 21 [RST, ACK] Seq=2 Ack=33 Win=0 Len=0</td>\n",
       "    </tr>\n",
       "    <tr>\n",
       "      <th>4</th>\n",
       "      <td>2011-11-04 21:04:51</td>\n",
       "      <td> 62</td>\n",
       "      <td> 32224 &gt; 21 [SYN] Seq=0 Win=65535 Len=0 MSS=146...</td>\n",
       "    </tr>\n",
       "  </tbody>\n",
       "</table>\n",
       "</div>"
      ],
      "text/plain": [
       "                 Time  Length  \\\n",
       "0 2011-11-04 21:04:51      76   \n",
       "1 2011-11-04 21:04:51      54   \n",
       "2 2011-11-04 21:04:51      64   \n",
       "3 2011-11-04 21:04:51      54   \n",
       "4 2011-11-04 21:04:51      62   \n",
       "\n",
       "                                                Info  \n",
       "0                     Response: 530 Login incorrect.  \n",
       "1  32213 > 21 [FIN, ACK] Seq=1 Ack=23 Win=65459 L...  \n",
       "2                               Response: 500 OOPS:   \n",
       "3     32213 > 21 [RST, ACK] Seq=2 Ack=33 Win=0 Len=0  \n",
       "4  32224 > 21 [SYN] Seq=0 Win=65535 Len=0 MSS=146...  "
      ]
     },
     "execution_count": 41,
     "metadata": {},
     "output_type": "execute_result"
    }
   ],
   "source": [
    "infodata2 = rhpass[['Time','Length','Info']]\n",
    "infodata2.head()"
   ]
  },
  {
   "cell_type": "code",
   "execution_count": 42,
   "metadata": {
    "collapsed": false,
    "scrolled": true
   },
   "outputs": [
    {
     "data": {
      "text/html": [
       "<div style=\"max-height:1000px;max-width:1500px;overflow:auto;\">\n",
       "<table border=\"1\" class=\"dataframe\">\n",
       "  <thead>\n",
       "    <tr style=\"text-align: right;\">\n",
       "      <th></th>\n",
       "      <th>Length</th>\n",
       "      <th>Info</th>\n",
       "    </tr>\n",
       "    <tr>\n",
       "      <th>Time</th>\n",
       "      <th></th>\n",
       "      <th></th>\n",
       "    </tr>\n",
       "  </thead>\n",
       "  <tbody>\n",
       "    <tr>\n",
       "      <th>2011-11-04 21:04:51</th>\n",
       "      <td> 76</td>\n",
       "      <td>                    Response: 530 Login incorrect.</td>\n",
       "    </tr>\n",
       "    <tr>\n",
       "      <th>2011-11-04 21:04:51</th>\n",
       "      <td> 54</td>\n",
       "      <td> 32213 &gt; 21 [FIN, ACK] Seq=1 Ack=23 Win=65459 L...</td>\n",
       "    </tr>\n",
       "    <tr>\n",
       "      <th>2011-11-04 21:04:51</th>\n",
       "      <td> 64</td>\n",
       "      <td>                              Response: 500 OOPS: </td>\n",
       "    </tr>\n",
       "    <tr>\n",
       "      <th>2011-11-04 21:04:51</th>\n",
       "      <td> 54</td>\n",
       "      <td>    32213 &gt; 21 [RST, ACK] Seq=2 Ack=33 Win=0 Len=0</td>\n",
       "    </tr>\n",
       "    <tr>\n",
       "      <th>2011-11-04 21:04:51</th>\n",
       "      <td> 62</td>\n",
       "      <td> 32224 &gt; 21 [SYN] Seq=0 Win=65535 Len=0 MSS=146...</td>\n",
       "    </tr>\n",
       "  </tbody>\n",
       "</table>\n",
       "</div>"
      ],
      "text/plain": [
       "                     Length                                               Info\n",
       "Time                                                                          \n",
       "2011-11-04 21:04:51      76                     Response: 530 Login incorrect.\n",
       "2011-11-04 21:04:51      54  32213 > 21 [FIN, ACK] Seq=1 Ack=23 Win=65459 L...\n",
       "2011-11-04 21:04:51      64                               Response: 500 OOPS: \n",
       "2011-11-04 21:04:51      54     32213 > 21 [RST, ACK] Seq=2 Ack=33 Win=0 Len=0\n",
       "2011-11-04 21:04:51      62  32224 > 21 [SYN] Seq=0 Win=65535 Len=0 MSS=146..."
      ]
     },
     "execution_count": 42,
     "metadata": {},
     "output_type": "execute_result"
    }
   ],
   "source": [
    "infodata2 = infodata2.set_index('Time')\n",
    "infodata2.head()"
   ]
  },
  {
   "cell_type": "code",
   "execution_count": 43,
   "metadata": {
    "collapsed": false
   },
   "outputs": [
    {
     "data": {
      "text/html": [
       "<div style=\"max-height:1000px;max-width:1500px;overflow:auto;\">\n",
       "<table border=\"1\" class=\"dataframe\">\n",
       "  <thead>\n",
       "    <tr style=\"text-align: right;\">\n",
       "      <th></th>\n",
       "      <th>Length</th>\n",
       "    </tr>\n",
       "    <tr>\n",
       "      <th>Time</th>\n",
       "      <th></th>\n",
       "    </tr>\n",
       "  </thead>\n",
       "  <tbody>\n",
       "    <tr>\n",
       "      <th>2011-11-04 21:04:00</th>\n",
       "      <td>  31107</td>\n",
       "    </tr>\n",
       "    <tr>\n",
       "      <th>2011-11-04 21:05:00</th>\n",
       "      <td> 219100</td>\n",
       "    </tr>\n",
       "    <tr>\n",
       "      <th>2011-11-04 21:06:00</th>\n",
       "      <td> 221178</td>\n",
       "    </tr>\n",
       "    <tr>\n",
       "      <th>2011-11-04 21:07:00</th>\n",
       "      <td> 217005</td>\n",
       "    </tr>\n",
       "    <tr>\n",
       "      <th>2011-11-04 21:08:00</th>\n",
       "      <td> 218185</td>\n",
       "    </tr>\n",
       "  </tbody>\n",
       "</table>\n",
       "</div>"
      ],
      "text/plain": [
       "                     Length\n",
       "Time                       \n",
       "2011-11-04 21:04:00   31107\n",
       "2011-11-04 21:05:00  219100\n",
       "2011-11-04 21:06:00  221178\n",
       "2011-11-04 21:07:00  217005\n",
       "2011-11-04 21:08:00  218185"
      ]
     },
     "execution_count": 43,
     "metadata": {},
     "output_type": "execute_result"
    }
   ],
   "source": [
    "infodata2.resample('T',how=sum).head()"
   ]
  },
  {
   "cell_type": "code",
   "execution_count": 44,
   "metadata": {
    "collapsed": false
   },
   "outputs": [
    {
     "data": {
      "image/png": "[encoded data removed]",
      "text/plain": [
       "<matplotlib.figure.Figure at 0xa98bb68c>"
      ]
     },
     "metadata": {},
     "output_type": "display_data"
    }
   ],
   "source": [
    "infodata2_plot = infodata2.resample('T',how=sum).plot(kind=\"barh\",title=\"Frequency Bruteforce % minute\",style=\"r\",figsize=(20,4))"
   ]
  },
  {
   "cell_type": "code",
   "execution_count": 45,
   "metadata": {
    "collapsed": true
   },
   "outputs": [],
   "source": [
    "fig = infodata2_plot.get_figure()\n",
    "fig.savefig(\"total-packet-by-minute.png\")"
   ]
  },
  {
   "cell_type": "code",
   "execution_count": 46,
   "metadata": {
    "collapsed": false
   },
   "outputs": [
    {
     "data": {
      "text/html": [
       "<div style=\"max-height:1000px;max-width:1500px;overflow:auto;\">\n",
       "<table border=\"1\" class=\"dataframe\">\n",
       "  <thead>\n",
       "    <tr style=\"text-align: right;\">\n",
       "      <th></th>\n",
       "      <th>Length</th>\n",
       "      <th>Time</th>\n",
       "    </tr>\n",
       "  </thead>\n",
       "  <tbody>\n",
       "    <tr>\n",
       "      <th>0</th>\n",
       "      <td> 76</td>\n",
       "      <td>2011-11-04 21:04:51</td>\n",
       "    </tr>\n",
       "    <tr>\n",
       "      <th>1</th>\n",
       "      <td> 54</td>\n",
       "      <td>2011-11-04 21:04:51</td>\n",
       "    </tr>\n",
       "    <tr>\n",
       "      <th>2</th>\n",
       "      <td> 64</td>\n",
       "      <td>2011-11-04 21:04:51</td>\n",
       "    </tr>\n",
       "    <tr>\n",
       "      <th>3</th>\n",
       "      <td> 54</td>\n",
       "      <td>2011-11-04 21:04:51</td>\n",
       "    </tr>\n",
       "    <tr>\n",
       "      <th>4</th>\n",
       "      <td> 62</td>\n",
       "      <td>2011-11-04 21:04:51</td>\n",
       "    </tr>\n",
       "  </tbody>\n",
       "</table>\n",
       "</div>"
      ],
      "text/plain": [
       "   Length                Time\n",
       "0      76 2011-11-04 21:04:51\n",
       "1      54 2011-11-04 21:04:51\n",
       "2      64 2011-11-04 21:04:51\n",
       "3      54 2011-11-04 21:04:51\n",
       "4      62 2011-11-04 21:04:51"
      ]
     },
     "execution_count": 46,
     "metadata": {},
     "output_type": "execute_result"
    }
   ],
   "source": [
    "infodata2 = rhpass[['Length','Time']]\n",
    "infodata2.head()"
   ]
  },
  {
   "cell_type": "code",
   "execution_count": 47,
   "metadata": {
    "collapsed": false
   },
   "outputs": [
    {
     "data": {
      "text/html": [
       "<div style=\"max-height:1000px;max-width:1500px;overflow:auto;\">\n",
       "<table border=\"1\" class=\"dataframe\">\n",
       "  <thead>\n",
       "    <tr style=\"text-align: right;\">\n",
       "      <th></th>\n",
       "      <th>Length</th>\n",
       "    </tr>\n",
       "    <tr>\n",
       "      <th>Time</th>\n",
       "      <th></th>\n",
       "    </tr>\n",
       "  </thead>\n",
       "  <tbody>\n",
       "    <tr>\n",
       "      <th>2011-11-04 21:04:51</th>\n",
       "      <td> 76</td>\n",
       "    </tr>\n",
       "    <tr>\n",
       "      <th>2011-11-04 21:04:51</th>\n",
       "      <td> 54</td>\n",
       "    </tr>\n",
       "    <tr>\n",
       "      <th>2011-11-04 21:04:51</th>\n",
       "      <td> 64</td>\n",
       "    </tr>\n",
       "    <tr>\n",
       "      <th>2011-11-04 21:04:51</th>\n",
       "      <td> 54</td>\n",
       "    </tr>\n",
       "    <tr>\n",
       "      <th>2011-11-04 21:04:51</th>\n",
       "      <td> 62</td>\n",
       "    </tr>\n",
       "  </tbody>\n",
       "</table>\n",
       "</div>"
      ],
      "text/plain": [
       "                     Length\n",
       "Time                       \n",
       "2011-11-04 21:04:51      76\n",
       "2011-11-04 21:04:51      54\n",
       "2011-11-04 21:04:51      64\n",
       "2011-11-04 21:04:51      54\n",
       "2011-11-04 21:04:51      62"
      ]
     },
     "execution_count": 47,
     "metadata": {},
     "output_type": "execute_result"
    }
   ],
   "source": [
    "infodata2 = infodata2.set_index('Time')\n",
    "infodata2.head()"
   ]
  },
  {
   "cell_type": "code",
   "execution_count": 48,
   "metadata": {
    "collapsed": false
   },
   "outputs": [
    {
     "data": {
      "text/html": [
       "<div style=\"max-height:1000px;max-width:1500px;overflow:auto;\">\n",
       "<table border=\"1\" class=\"dataframe\">\n",
       "  <thead>\n",
       "    <tr style=\"text-align: right;\">\n",
       "      <th></th>\n",
       "      <th>Length</th>\n",
       "    </tr>\n",
       "    <tr>\n",
       "      <th>Time</th>\n",
       "      <th></th>\n",
       "    </tr>\n",
       "  </thead>\n",
       "  <tbody>\n",
       "    <tr>\n",
       "      <th>2011-11-04 21:04:51</th>\n",
       "      <td> 4199</td>\n",
       "    </tr>\n",
       "    <tr>\n",
       "      <th>2011-11-04 21:04:52</th>\n",
       "      <td> 1685</td>\n",
       "    </tr>\n",
       "    <tr>\n",
       "      <th>2011-11-04 21:04:53</th>\n",
       "      <td> 4984</td>\n",
       "    </tr>\n",
       "    <tr>\n",
       "      <th>2011-11-04 21:04:54</th>\n",
       "      <td> 3420</td>\n",
       "    </tr>\n",
       "    <tr>\n",
       "      <th>2011-11-04 21:04:55</th>\n",
       "      <td> 2523</td>\n",
       "    </tr>\n",
       "  </tbody>\n",
       "</table>\n",
       "</div>"
      ],
      "text/plain": [
       "                     Length\n",
       "Time                       \n",
       "2011-11-04 21:04:51    4199\n",
       "2011-11-04 21:04:52    1685\n",
       "2011-11-04 21:04:53    4984\n",
       "2011-11-04 21:04:54    3420\n",
       "2011-11-04 21:04:55    2523"
      ]
     },
     "execution_count": 48,
     "metadata": {},
     "output_type": "execute_result"
    }
   ],
   "source": [
    "infodata2.resample('S',how=sum).head()"
   ]
  },
  {
   "cell_type": "code",
   "execution_count": 49,
   "metadata": {
    "collapsed": false,
    "scrolled": true
   },
   "outputs": [
    {
     "data": {
      "image/png": "[encoded data removed]",
      "text/plain": [
       "<matplotlib.figure.Figure at 0xa97f4bec>"
      ]
     },
     "metadata": {},
     "output_type": "display_data"
    }
   ],
   "source": [
    "infodata2_plot = infodata2.resample('S',how=sum).plot(title=\"Frequency Bruteforce Attack % seconds\",figsize=(20,4))"
   ]
  },
  {
   "cell_type": "code",
   "execution_count": 50,
   "metadata": {
    "collapsed": true
   },
   "outputs": [],
   "source": [
    "fig = infodata2_plot.get_figure()\n",
    "fig.savefig(\"total-packet-by-seconds.png\")"
   ]
  }
 ],
 "metadata": {
  "kernelspec": {
   "display_name": "Python 2",
   "language": "python",
   "name": "python2"
  },
  "language_info": {
   "codemirror_mode": {
    "name": "ipython",
    "version": 2
   },
   "file_extension": ".py",
   "mimetype": "text/x-python",
   "name": "python",
   "nbconvert_exporter": "python",
   "pygments_lexer": "ipython2",
   "version": "2.7.9"
  }
 },
 "nbformat": 4,
 "nbformat_minor": 0
}
